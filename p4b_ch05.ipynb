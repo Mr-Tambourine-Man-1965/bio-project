{
 "cells": [
  {
   "cell_type": "code",
   "execution_count": 1,
   "metadata": {},
   "outputs": [],
   "source": [
    "# Percentage of amino acid residues, part one\n",
    "\n",
    "def amino_acid_content(protein, amino_acid):\n",
    "    amino_acid = amino_acid.upper()\n",
    "    length = len(protein)\n",
    "    amino_acid_count = protein.upper().count(amino_acid)\n",
    "    amino_acid_percent = (amino_acid_count / length) * 100\n",
    "    return amino_acid_percent"
   ]
  },
  {
   "cell_type": "code",
   "execution_count": 2,
   "metadata": {},
   "outputs": [],
   "source": [
    "# Assertion tests, part one\n",
    "\n",
    "assert amino_acid_content(\"MSRSLLLRFLLFLLLLPPLP\", \"M\") == 5\n",
    "assert amino_acid_content(\"MSRSLLLRFLLFLLLLPPLP\", \"r\") == 10\n",
    "assert amino_acid_content(\"MSRSLLLRFLLFLLLLPPLP\", \"L\") == 50\n",
    "assert amino_acid_content(\"MSRSLLLRFLLFLLLLPPLP\", \"Y\") == 0"
   ]
  },
  {
   "cell_type": "code",
   "execution_count": 3,
   "metadata": {},
   "outputs": [],
   "source": [
    "# Percentage of amino acid residues, part two\n",
    "\n",
    "def amino_acid_content(protein, amino_acid_list = [\"A\", \"I\", \"L\", \"M\", \"F\", \"W\", \"Y\", \"V\"]):\n",
    "    length = len(protein)\n",
    "    amino_acid_number = 0\n",
    "    for amino_acid in amino_acid_list:\n",
    "        amino_acid = amino_acid.upper()\n",
    "        amino_acid_count = protein.upper().count(amino_acid)\n",
    "        amino_acid_number = amino_acid_number + amino_acid_count\n",
    "    percent = (amino_acid_number / length) * 100\n",
    "    return round (percent, 2)"
   ]
  },
  {
   "cell_type": "code",
   "execution_count": 4,
   "metadata": {},
   "outputs": [],
   "source": [
    "# Assertion tests, part two\n",
    "\n",
    "assert amino_acid_content(\"MSRSLLLRFLLFLLLLPPLP\", [\"M\"]) == 5\n",
    "assert amino_acid_content(\"MSRSLLLRFLLFLLLLPPLP\", [\"M\", \"L\"]) == 55\n",
    "assert amino_acid_content(\"MSRSLLLRFLLFLLLLPPLP\", [\"F\", \"S\", \"L\"]) == 70\n",
    "assert amino_acid_content(\"MSRSLLLRFLLFLLLLPPLP\") == 65"
   ]
  },
  {
   "cell_type": "code",
   "execution_count": null,
   "metadata": {},
   "outputs": [],
   "source": []
  }
 ],
 "metadata": {
  "kernelspec": {
   "display_name": "Python 3",
   "language": "python",
   "name": "python3"
  },
  "language_info": {
   "codemirror_mode": {
    "name": "ipython",
    "version": 3
   },
   "file_extension": ".py",
   "mimetype": "text/x-python",
   "name": "python",
   "nbconvert_exporter": "python",
   "pygments_lexer": "ipython3",
   "version": "3.7.4"
  }
 },
 "nbformat": 4,
 "nbformat_minor": 2
}
