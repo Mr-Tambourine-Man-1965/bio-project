{
 "cells": [
  {
   "cell_type": "code",
   "execution_count": 1,
   "metadata": {},
   "outputs": [],
   "source": [
    "# Binning DNA sequences\n",
    "\n",
    "import os\n",
    "\n",
    "for lower_bin in range(100, 1000, 100):\n",
    "    upper_bin = lower_bin + 99\n",
    "    bin_folder_name = str(lower_bin) + \"-\" + str(upper_bin)\n",
    "    os.mkdir(bin_folder_name)\n",
    "    \n",
    "seq_number = 1\n",
    "\n",
    "for file in os.listdir(\".\"):\n",
    "    if file.endswith(\".dna\"):\n",
    "        dna_file = open(file)\n",
    "        \n",
    "    for line in dna_file:\n",
    "        dna = line.rstrip(\"\\n\")\n",
    "        length = len(dna)\n",
    "\n",
    "        for lower_bin in range(100, 1000, 100):\n",
    "            upper_bin = lower_bin + 99\n",
    "            if length >= lower_bin and length < upper_bin:\n",
    "                bin_folder_name = str(lower_bin) + \"-\" + str(upper_bin)\n",
    "                output_path = bin_folder_name + '/' + str(seq_number) + '.dna'\n",
    "                output = open(output_path, \"w\")\n",
    "                output.write(dna)\n",
    "                output.close()\n",
    "                \n",
    "                seq_number = seq_number + 1"
   ]
  },
  {
   "cell_type": "code",
   "execution_count": null,
   "metadata": {},
   "outputs": [],
   "source": [
    "# Kmer counting\n",
    "\n",
    "import sys\n",
    "\n",
    "kmer_size = int(sys.argv[1])\n",
    "count_cutoff = int(sys.argv[2])\n",
    "\n",
    "def split_dna(dna, kmer_size):\n",
    "    kmers = []\n",
    "    for start in range(0, len(dna) - (kmer_size - 1), 1):\n",
    "        kmer = dna[start:start + kmer_size]\n",
    "        kmers.append(kmer)\n",
    "    return kmers\n",
    "\n",
    "kmer_counts = {}\n",
    "\n",
    "for file_name in os.listdir(\".\"):\n",
    "    if file_name.endswith(\".dna\"):\n",
    "        dna_file = open(file_name)\n",
    "        \n",
    "        for line in dna_file:\n",
    "            dna = line.rstrip(\"\\n\")\n",
    "            \n",
    "            for kmer in split_dna(dna, kmer_size):\n",
    "                current_count = kmer_counts.get(kmer, 0)\n",
    "                new_count = current_count + 1\n",
    "                kmer_counts[kmer] = new_count\n",
    "\n",
    "for kmer, count in kmer_counts.items():\n",
    "    if count > count_cutoff:\n",
    "        print(kmer + \" : \" + str(count))"
   ]
  }
 ],
 "metadata": {
  "kernelspec": {
   "display_name": "Python 3",
   "language": "python",
   "name": "python3"
  },
  "language_info": {
   "codemirror_mode": {
    "name": "ipython",
    "version": 3
   },
   "file_extension": ".py",
   "mimetype": "text/x-python",
   "name": "python",
   "nbconvert_exporter": "python",
   "pygments_lexer": "ipython3",
   "version": "3.7.4"
  }
 },
 "nbformat": 4,
 "nbformat_minor": 2
}
