{
 "cells": [
  {
   "cell_type": "code",
   "execution_count": 1,
   "metadata": {},
   "outputs": [
    {
     "name": "stdout",
     "output_type": "stream",
     "text": [
      "xkn59438\n",
      "hedle3455\n",
      "xjhd53e\n",
      "45da\n"
     ]
    }
   ],
   "source": [
    "# Accession names, contain the number 5\n",
    "\n",
    "import re\n",
    "accessions = [\"xkn59438\", \"yhdck2\", \"eihd39d9\", \"chdsye847\", \"hedle3455\", \"xjhd53e\", \"45da\", \"de37dp\"]\n",
    "for accession in accessions:\n",
    "    if re.search(r\"5\", accession):\n",
    "        print(accession)"
   ]
  },
  {
   "cell_type": "code",
   "execution_count": 2,
   "metadata": {},
   "outputs": [
    {
     "name": "stdout",
     "output_type": "stream",
     "text": [
      "yhdck2\n",
      "eihd39d9\n",
      "chdsye847\n",
      "hedle3455\n",
      "xjhd53e\n",
      "45da\n",
      "de37dp\n"
     ]
    }
   ],
   "source": [
    "# Accession names, contain the letter d or e\n",
    "\n",
    "for accession in accessions:\n",
    "    if re.search(r\"(d|e)\", accession):\n",
    "        print(accession)"
   ]
  },
  {
   "cell_type": "code",
   "execution_count": 3,
   "metadata": {},
   "outputs": [
    {
     "name": "stdout",
     "output_type": "stream",
     "text": [
      "chdsye847\n",
      "hedle3455\n",
      "xjhd53e\n",
      "de37dp\n"
     ]
    }
   ],
   "source": [
    "# Accession names, contain the letters d and e in that order\n",
    "\n",
    "for accession in accessions:\n",
    "    if re.search(r\"d.*e\", accession):\n",
    "        print(accession)"
   ]
  },
  {
   "cell_type": "code",
   "execution_count": 4,
   "metadata": {},
   "outputs": [
    {
     "name": "stdout",
     "output_type": "stream",
     "text": [
      "hedle3455\n"
     ]
    }
   ],
   "source": [
    "# Accession names, contain the letters d and e in that order with a single letter between them\n",
    "\n",
    "for accession in accessions:\n",
    "    if re.search(r\"d.e\", accession):\n",
    "        print(accession)"
   ]
  },
  {
   "cell_type": "code",
   "execution_count": 5,
   "metadata": {},
   "outputs": [
    {
     "name": "stdout",
     "output_type": "stream",
     "text": [
      "eihd39d9\n",
      "chdsye847\n",
      "hedle3455\n",
      "xjhd53e\n",
      "de37dp\n"
     ]
    }
   ],
   "source": [
    "# Accession names, contain both the letters d and e in any order\n",
    "\n",
    "for accession in accessions:\n",
    "    if re.search(r\"(d.*e|e.*d)\", accession):\n",
    "        print(accession)"
   ]
  },
  {
   "cell_type": "code",
   "execution_count": 7,
   "metadata": {},
   "outputs": [
    {
     "name": "stdout",
     "output_type": "stream",
     "text": [
      "xkn59438\n",
      "yhdck2\n",
      "xjhd53e\n"
     ]
    }
   ],
   "source": [
    "# Accession names, start with x or y\n",
    "\n",
    "for accession in accessions:\n",
    "    if re.search(r\"^(x|y)\", accession):\n",
    "        print(accession)"
   ]
  },
  {
   "cell_type": "code",
   "execution_count": 8,
   "metadata": {},
   "outputs": [
    {
     "name": "stdout",
     "output_type": "stream",
     "text": [
      "xjhd53e\n"
     ]
    }
   ],
   "source": [
    "# Accession names, start with x or y and end with e\n",
    "\n",
    "for accession in accessions:\n",
    "    if re.search(r\"^(x|y).*e$\", accession):\n",
    "        print(accession)"
   ]
  },
  {
   "cell_type": "code",
   "execution_count": 9,
   "metadata": {},
   "outputs": [
    {
     "name": "stdout",
     "output_type": "stream",
     "text": [
      "xkn59438\n",
      "chdsye847\n",
      "hedle3455\n"
     ]
    }
   ],
   "source": [
    "# Accession names, contain three or more numbers in a row\n",
    "\n",
    "for accession in accessions:\n",
    "    if re.search(r\"[0123456789]{3,20}\", accession):\n",
    "        print(accession)"
   ]
  },
  {
   "cell_type": "code",
   "execution_count": 10,
   "metadata": {},
   "outputs": [
    {
     "name": "stdout",
     "output_type": "stream",
     "text": [
      "45da\n",
      "de37dp\n"
     ]
    }
   ],
   "source": [
    "# Accession names, end with d followed by either a, r, or p\n",
    "\n",
    "for accession in accessions:\n",
    "    if re.search(r\"d[arp]$\", accession):\n",
    "        print(accession)"
   ]
  },
  {
   "cell_type": "code",
   "execution_count": 11,
   "metadata": {},
   "outputs": [
    {
     "name": "stdout",
     "output_type": "stream",
     "text": [
      "488\n",
      "655\n",
      "434\n",
      "51\n",
      "384\n"
     ]
    }
   ],
   "source": [
    "# Double digest\n",
    "\n",
    "dna = open(\"dna.txt\").read().rstrip(\"\\n\")\n",
    "length = [0]\n",
    "for AbcI in re.finditer(r\"A[ATGC]TAAT\", dna):\n",
    "    length.append(AbcI.start() + 3)\n",
    "\n",
    "for AbcII in re.finditer(r\"GC[AG][AT]TG\", dna):\n",
    "    length.append(AbcII.start() + 4)\n",
    "\n",
    "length.append(len(dna))\n",
    "sorted_cut_lengths = sorted(length)\n",
    "\n",
    "for i in range(1,len(sorted_cut_lengths)):\n",
    "    ahead = sorted_cut_lengths[i]\n",
    "    behind = sorted_cut_lengths[i-1]\n",
    "    cut_length = ahead - behind\n",
    "    print(str(cut_length))"
   ]
  },
  {
   "cell_type": "code",
   "execution_count": null,
   "metadata": {},
   "outputs": [],
   "source": []
  }
 ],
 "metadata": {
  "kernelspec": {
   "display_name": "Python 3",
   "language": "python",
   "name": "python3"
  },
  "language_info": {
   "codemirror_mode": {
    "name": "ipython",
    "version": 3
   },
   "file_extension": ".py",
   "mimetype": "text/x-python",
   "name": "python",
   "nbconvert_exporter": "python",
   "pygments_lexer": "ipython3",
   "version": "3.7.4"
  }
 },
 "nbformat": 4,
 "nbformat_minor": 2
}
