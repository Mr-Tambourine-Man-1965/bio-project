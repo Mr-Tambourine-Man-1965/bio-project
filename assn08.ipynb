{
 "cells": [
  {
   "cell_type": "code",
   "execution_count": 1,
   "metadata": {},
   "outputs": [
    {
     "name": "stdout",
     "output_type": "stream",
     "text": [
      "Katherine, 0, 9, 9\n",
      "Catheryn, 37, 45, 8\n",
      "Cathryn, 54, 61, 7\n",
      "Kathryn, 89, 96, 7\n",
      "Katherine, 113, 122, 9\n",
      "Catherine, 137, 146, 9\n",
      "Kathrin, 240, 247, 7\n",
      "katharine, 273, 282, 9\n"
     ]
    }
   ],
   "source": [
    "# Assn08\n",
    "\n",
    "import re\n",
    "the_concert = \"Katherine went to the concert to see Catheryn and the Cathryn's. She ran into her friend Kathryn, who introduced Katherine to her friend Catherine. Together, they enjoyed the concert while texting inaudible snippets to their mutual friend, Kathrin. Their mercurial friend, katharine, felt left out.\"\n",
    "re.findall(r\"([C|K|k]ath[aeinry]{1,100}e*)\", the_concert)\n",
    "search = re.finditer(r\"([C|K|k]ath[aeinry]{1,100}e*)\", the_concert)\n",
    "for match in search:\n",
    "    search_start = match.start()\n",
    "    search_end = match.end()\n",
    "    print(match.group(0) + \", \" + str(search_start) + \", \" + str(search_end) + \", \" + str(search_end - search_start))"
   ]
  },
  {
   "cell_type": "code",
   "execution_count": null,
   "metadata": {},
   "outputs": [],
   "source": []
  }
 ],
 "metadata": {
  "kernelspec": {
   "display_name": "Python 3",
   "language": "python",
   "name": "python3"
  },
  "language_info": {
   "codemirror_mode": {
    "name": "ipython",
    "version": 3
   },
   "file_extension": ".py",
   "mimetype": "text/x-python",
   "name": "python",
   "nbconvert_exporter": "python",
   "pygments_lexer": "ipython3",
   "version": "3.7.4"
  }
 },
 "nbformat": 4,
 "nbformat_minor": 2
}
