{
 "cells": [
  {
   "cell_type": "code",
   "execution_count": 4,
   "metadata": {},
   "outputs": [],
   "source": [
    "# Processing DNA in a file_Part A\n",
    "\n",
    "file = open(\"input.txt\")\n",
    "file_2 = open(\"clean_sequences.txt\", \"w\")\n",
    "for line in file:\n",
    "    line_length = len(line)\n",
    "    clean_sequences = line[14:line_length]\n",
    "    file_2.write(clean_sequences)\n",
    "file_2.close()"
   ]
  },
  {
   "cell_type": "code",
   "execution_count": 2,
   "metadata": {},
   "outputs": [
    {
     "name": "stdout",
     "output_type": "stream",
     "text": [
      "43\n",
      "38\n",
      "49\n",
      "34\n",
      "48\n"
     ]
    }
   ],
   "source": [
    "# Processing DNA in a file_Part B\n",
    "\n",
    "another_file = open(\"clean_sequences.txt\")\n",
    "for line in another_file:\n",
    "    line_length = len(line)\n",
    "    print(str(line_length))"
   ]
  },
  {
   "cell_type": "code",
   "execution_count": 5,
   "metadata": {},
   "outputs": [
    {
     "name": "stdout",
     "output_type": "stream",
     "text": [
      "['5', '58\\n']\n",
      "['72', '133\\n']\n",
      "['190', '276\\n']\n",
      "['340', '398\\n']\n"
     ]
    }
   ],
   "source": [
    "# Multiple exons from genomic DNA\n",
    "\n",
    "yet_another_file = open(\"exons.txt\")\n",
    "for line in yet_another_file:\n",
    "    start_stop = line.split(\",\")\n",
    "    print(str(start_stop))"
   ]
  },
  {
   "cell_type": "code",
   "execution_count": 7,
   "metadata": {},
   "outputs": [],
   "source": [
    "and_another_file = open(\"genomic_dna.txt\")\n",
    "and_another_file_contents = and_another_file.read()\n",
    "exon_1 = and_another_file_contents[4:58]\n",
    "exon_2 = and_another_file_contents[71:133]\n",
    "exon_3 = and_another_file_contents[189:276]\n",
    "exon_4 = and_another_file_contents[339:398]\n",
    "new_file = open(\"file.txt\", \"w\")\n",
    "new_file.write(exon_1 + exon_2 + exon_3 + exon_4)\n",
    "new_file.close()"
   ]
  },
  {
   "cell_type": "code",
   "execution_count": null,
   "metadata": {},
   "outputs": [],
   "source": []
  }
 ],
 "metadata": {
  "kernelspec": {
   "display_name": "Python 3",
   "language": "python",
   "name": "python3"
  },
  "language_info": {
   "codemirror_mode": {
    "name": "ipython",
    "version": 3
   },
   "file_extension": ".py",
   "mimetype": "text/x-python",
   "name": "python",
   "nbconvert_exporter": "python",
   "pygments_lexer": "ipython3",
   "version": "3.7.4"
  }
 },
 "nbformat": 4,
 "nbformat_minor": 2
}
