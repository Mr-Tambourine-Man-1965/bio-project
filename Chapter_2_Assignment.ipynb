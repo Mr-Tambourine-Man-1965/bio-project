{
 "cells": [
  {
   "cell_type": "code",
   "execution_count": 1,
   "metadata": {},
   "outputs": [
    {
     "name": "stdout",
     "output_type": "stream",
     "text": [
      "0.6851851851851852\n"
     ]
    }
   ],
   "source": [
    "# Calculating AT content\n",
    "\n",
    "my_dna = \"ACTGATCGATTACGTATAGTATTTGCTATCATACATATATATCGATGCGTTCAT\"\n",
    "dna_length = len(my_dna)\n",
    "A_count = my_dna.count(\"A\")\n",
    "T_count = my_dna.count(\"T\")\n",
    "print(str((A_count + T_count) / dna_length))"
   ]
  },
  {
   "cell_type": "code",
   "execution_count": 2,
   "metadata": {
    "scrolled": true
   },
   "outputs": [
    {
     "name": "stdout",
     "output_type": "stream",
     "text": [
      "TGACTAGCTAATGCATATCATAAACGATAGTATGTATATATAGCTACGCAAGTA\n"
     ]
    }
   ],
   "source": [
    "# Complementing DNA\n",
    "\n",
    "my_dna = \"ACTGATCGATTACGTATAGTATTTGCTATCATACATATATATCGATGCGTTCAT\"\n",
    "AB_rep = my_dna.replace(\"A\", \"B\")\n",
    "TU_rep = AB_rep.replace(\"T\", \"U\")\n",
    "GH_rep = TU_rep.replace(\"G\", \"H\")\n",
    "CD_rep = GH_rep.replace(\"C\", \"D\")\n",
    "BT_rep = CD_rep.replace(\"B\", \"T\")\n",
    "UA_rep = BT_rep.replace(\"U\", \"A\")\n",
    "HC_rep = UA_rep.replace(\"H\", \"C\")\n",
    "DG_rep = HC_rep.replace(\"D\", \"G\")\n",
    "print(DG_rep)"
   ]
  },
  {
   "cell_type": "code",
   "execution_count": 5,
   "metadata": {},
   "outputs": [
    {
     "name": "stdout",
     "output_type": "stream",
     "text": [
      "1\n",
      "22 33\n"
     ]
    }
   ],
   "source": [
    "# Restriction fragment lengths\n",
    "\n",
    "my_dna = \"ACTGATCGATTACGTATAGTAGAATTCTATCATACATATATATCGATGCGTTCAT\"\n",
    "dna_length = len(my_dna)\n",
    "GAATTC_count = my_dna.count(\"GAATTC\")\n",
    "print(GAATTC_count)\n",
    "frag_1 = my_dna.find(\"AATTC\")\n",
    "frag_2 = dna_length - frag_1\n",
    "print(frag_1, frag_2)"
   ]
  },
  {
   "cell_type": "code",
   "execution_count": 1,
   "metadata": {},
   "outputs": [
    {
     "name": "stdout",
     "output_type": "stream",
     "text": [
      "ATCGATCGATCGATCGACTGACTAGTCATAGCTATGCATGTAGCTACTCGATCGATCGA\n",
      "TCTATCATCGATCGATATCGATGCATCGACT\n",
      "ACTAT\n"
     ]
    }
   ],
   "source": [
    "# Splicing out introns, part one\n",
    "\n",
    "my_dna = \"ATCGATCGATCGATCGACTGACTAGTCATAGCTATGCATGTAGCTACTCGATCGATCGA\\nTCGATCGATCGATCGATCGATCGATCATGCTATCATCGATCGATATCGATGCATCGACT\\nACTAT\"\n",
    "exon_1 = my_dna[0:62]\n",
    "exon_2 = my_dna[90:130]\n",
    "coding_region = exon_1 + exon_2\n",
    "print(coding_region)"
   ]
  },
  {
   "cell_type": "code",
   "execution_count": 3,
   "metadata": {},
   "outputs": [
    {
     "name": "stdout",
     "output_type": "stream",
     "text": [
      "77.6\n"
     ]
    }
   ],
   "source": [
    "# Splicing out introns, part two\n",
    "\n",
    "my_dna = \"ATCGATCGATCGATCGACTGACTAGTCATAGCTATGCATGTAGCTACTCGATCGATCGA\\nTCGATCGATCGATCGATCGATCGATCATGCTATCATCGATCGATATCGATGCATCGACT\\nACTAT\"\n",
    "dna_length = len(my_dna)\n",
    "coding_region_length = len(coding_region)\n",
    "print(100 * coding_region_length / dna_length)"
   ]
  },
  {
   "cell_type": "code",
   "execution_count": 4,
   "metadata": {},
   "outputs": [
    {
     "name": "stdout",
     "output_type": "stream",
     "text": [
      "ATCGATCGATCGATCGACTGACTAGTCATAGCTATGCATGTAGCTACTCGATCGATCGA\n",
      "TCgatcgatcgatcgatcgatcgatcatgcTATCATCGATCGATATCGATGCATCGACT\n",
      "ACTAT\n"
     ]
    }
   ],
   "source": [
    "# Splicing out introns, part three\n",
    "\n",
    "my_dna = \"ATCGATCGATCGATCGACTGACTAGTCATAGCTATGCATGTAGCTACTCGATCGATCGA\\nTCGATCGATCGATCGATCGATCGATCATGCTATCATCGATCGATATCGATGCATCGACT\\nACTAT\"\n",
    "intron = my_dna[62:90]\n",
    "intron_lower = intron.lower()\n",
    "final_sequence = exon_1 + intron_lower + exon_2\n",
    "print(final_sequence)"
   ]
  },
  {
   "cell_type": "code",
   "execution_count": null,
   "metadata": {},
   "outputs": [],
   "source": []
  }
 ],
 "metadata": {
  "kernelspec": {
   "display_name": "Python 3",
   "language": "python",
   "name": "python3"
  },
  "language_info": {
   "codemirror_mode": {
    "name": "ipython",
    "version": 3
   },
   "file_extension": ".py",
   "mimetype": "text/x-python",
   "name": "python",
   "nbconvert_exporter": "python",
   "pygments_lexer": "ipython3",
   "version": "3.7.4"
  }
 },
 "nbformat": 4,
 "nbformat_minor": 2
}
