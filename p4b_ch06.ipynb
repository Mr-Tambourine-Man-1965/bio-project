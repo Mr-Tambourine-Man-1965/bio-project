{
 "cells": [
  {
   "cell_type": "code",
   "execution_count": 1,
   "metadata": {},
   "outputs": [
    {
     "name": "stdout",
     "output_type": "stream",
     "text": [
      "kdy647\n",
      "jdg766\n",
      "kdy533\n"
     ]
    }
   ],
   "source": [
    "# Several species\n",
    "\n",
    "data = open(\"data.csv\")\n",
    "for line in data:\n",
    "    column = line.rstrip(\"\\n\").split(\",\")\n",
    "    species_name = column[0]\n",
    "    sequence = column[1]\n",
    "    gene_name = column[2]\n",
    "    expression_level = column[3]\n",
    "    if species_name == \"Drosophila melanogaster\" or species_name == \"Drosophila simulans\":\n",
    "        print(gene_name)"
   ]
  },
  {
   "cell_type": "code",
   "execution_count": 2,
   "metadata": {},
   "outputs": [
    {
     "name": "stdout",
     "output_type": "stream",
     "text": [
      "kdy647\n",
      "teg436\n"
     ]
    }
   ],
   "source": [
    "# Length range\n",
    "\n",
    "data = open(\"data.csv\")\n",
    "for line in data:\n",
    "    column = line.rstrip(\"\\n\").split(\",\")\n",
    "    species_name = column[0]\n",
    "    sequence = column[1]\n",
    "    gene_name = column[2]\n",
    "    expression_level = column[3]\n",
    "    if len(sequence) > 90 and len(sequence) < 110:\n",
    "        print(gene_name)"
   ]
  },
  {
   "cell_type": "code",
   "execution_count": 3,
   "metadata": {},
   "outputs": [
    {
     "name": "stdout",
     "output_type": "stream",
     "text": [
      "teg436\n"
     ]
    }
   ],
   "source": [
    "# AT content\n",
    "\n",
    "data = open(\"data.csv\")\n",
    "for line in data:\n",
    "    column = line.rstrip(\"\\n\").split(\",\")\n",
    "    species_name = column[0]\n",
    "    sequence = column[1]\n",
    "    gene_name = column[2]\n",
    "    expression_level = column[3]\n",
    "    expression_level = int(expression_level)\n",
    "    length = len(sequence)\n",
    "    a_count = sequence.upper().count(\"A\")\n",
    "    t_count = sequence.upper().count(\"T\")\n",
    "    at_count = (a_count + t_count) / length\n",
    "    if at_count < 0.5 and expression_level > 200:\n",
    "        print(gene_name)"
   ]
  },
  {
   "cell_type": "code",
   "execution_count": 4,
   "metadata": {},
   "outputs": [
    {
     "name": "stdout",
     "output_type": "stream",
     "text": [
      "kdy533\n",
      "hdt739\n",
      "hdu045\n"
     ]
    }
   ],
   "source": [
    "# Complex condition\n",
    "\n",
    "data = open(\"data.csv\")\n",
    "for line in data:\n",
    "    column = line.rstrip(\"\\n\").split(\",\")\n",
    "    species_name = column[0]\n",
    "    sequence = column[1]\n",
    "    gene_name = column[2]\n",
    "    expression_level = column[3]\n",
    "    if (gene_name.startswith(\"k\") or gene_name.startswith(\"h\")) and not species_name == \"Drosophila melanogaster\":\n",
    "        print(gene_name)"
   ]
  },
  {
   "cell_type": "code",
   "execution_count": 5,
   "metadata": {},
   "outputs": [
    {
     "name": "stdout",
     "output_type": "stream",
     "text": [
      "AT content for kdy647 is high.\n",
      "AT content for jdg766 is medium.\n",
      "AT content for kdy533 is medium.\n",
      "AT content for hdt739 is low.\n",
      "AT content for hdu045 is medium.\n",
      "AT content for teg436 is medium.\n"
     ]
    }
   ],
   "source": [
    "# High low medium\n",
    "\n",
    "data = open(\"data.csv\")\n",
    "for line in data:\n",
    "    column = line.rstrip(\"\\n\").split(\",\")\n",
    "    species_name = column[0]\n",
    "    sequence = column[1]\n",
    "    gene_name = column[2]\n",
    "    expression_level = column[3]\n",
    "    length = len(sequence)\n",
    "    a_count = sequence.upper().count(\"A\")\n",
    "    t_count = sequence.upper().count(\"T\")\n",
    "    at_content = (a_count + t_count) / length\n",
    "    if at_content > 0.65:\n",
    "        print(\"AT content for \" + gene_name + \" is high.\")\n",
    "    elif at_content < 0.45:\n",
    "        print(\"AT content for \" + gene_name + \" is low.\")\n",
    "    else:\n",
    "        print(\"AT content for \" + gene_name + \" is medium.\")"
   ]
  },
  {
   "cell_type": "code",
   "execution_count": null,
   "metadata": {},
   "outputs": [],
   "source": []
  }
 ],
 "metadata": {
  "kernelspec": {
   "display_name": "Python 3",
   "language": "python",
   "name": "python3"
  },
  "language_info": {
   "codemirror_mode": {
    "name": "ipython",
    "version": 3
   },
   "file_extension": ".py",
   "mimetype": "text/x-python",
   "name": "python",
   "nbconvert_exporter": "python",
   "pygments_lexer": "ipython3",
   "version": "3.7.4"
  }
 },
 "nbformat": 4,
 "nbformat_minor": 2
}
