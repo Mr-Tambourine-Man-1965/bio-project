{
 "cells": [
  {
   "cell_type": "code",
   "execution_count": 1,
   "metadata": {},
   "outputs": [],
   "source": [
    "# Splitting genomic DNA\n",
    "\n",
    "genomic_dna = open(\"genomic_dna.txt\")\n",
    "genomic_dna_contents = genomic_dna.read()\n",
    "exon_1 = genomic_dna_contents[0:62]\n",
    "exon_2 = genomic_dna_contents[90:130]\n",
    "intron = genomic_dna_contents[62:90]\n",
    "coding_region = open(\"coding_part.txt\", \"w\")\n",
    "coding_region.write(exon_1 + exon_2)\n",
    "coding_region.close()\n",
    "\n",
    "noncoding_region = open(\"non-coding_part.txt\", \"w\")\n",
    "noncoding_region.write(intron)\n",
    "noncoding_region.close()"
   ]
  },
  {
   "cell_type": "code",
   "execution_count": 2,
   "metadata": {},
   "outputs": [],
   "source": [
    "# Writing a FASTA file\n",
    "\n",
    "header_1 = \">ABC123\"\n",
    "header_2 = \">DEF456\"\n",
    "header_3 = \">HIJ789\"\n",
    "sequence_1 = \"ATCGTACGATCGATCGATCGCTAGACGTATCG\"\n",
    "sequence_2 = \"actgatcgacgatcgatcgatcacgact\"\n",
    "sequence_3 = \"ACTGAC-ACTGT--ACTGTA----CATGTG\"\n",
    "file = open(\"fasta.fasta\", \"w\")\n",
    "file.write(header_1 + \"\\n\" + sequence_1 + \"\\n\" + header_2 + \"\\n\" + sequence_2.upper() + \"\\n\" + header_3 + \"\\n\" + sequence_3.replace(\"-\", \"\"))\n",
    "file.close()"
   ]
  },
  {
   "cell_type": "code",
   "execution_count": 3,
   "metadata": {},
   "outputs": [],
   "source": [
    "# Writing multiple FASTA files\n",
    "\n",
    "file_1 = open(\"ABC123.fasta\", \"w\")\n",
    "file_1.write(header_1 + \"\\n\" + sequence_1)\n",
    "file_1.close()\n",
    "\n",
    "file_2 = open(\"DEF456.fasta\", \"w\")\n",
    "file_2.write(header_2 + \"\\n\" + sequence_2.upper())\n",
    "file_2.close()\n",
    "\n",
    "file_3 = open(\"HIJ789.fasta\", \"w\")\n",
    "file_3.write(header_3 + \"\\n\" + sequence_3.replace(\"-\", \"\"))\n",
    "file_3.close()"
   ]
  },
  {
   "cell_type": "code",
   "execution_count": null,
   "metadata": {},
   "outputs": [],
   "source": []
  }
 ],
 "metadata": {
  "kernelspec": {
   "display_name": "Python 3",
   "language": "python",
   "name": "python3"
  },
  "language_info": {
   "codemirror_mode": {
    "name": "ipython",
    "version": 3
   },
   "file_extension": ".py",
   "mimetype": "text/x-python",
   "name": "python",
   "nbconvert_exporter": "python",
   "pygments_lexer": "ipython3",
   "version": "3.7.4"
  }
 },
 "nbformat": 4,
 "nbformat_minor": 2
}
